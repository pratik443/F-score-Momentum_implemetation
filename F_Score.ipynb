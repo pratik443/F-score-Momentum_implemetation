{
  "nbformat": 4,
  "nbformat_minor": 0,
  "metadata": {
    "colab": {
      "name": "F-Score.ipynb",
      "provenance": [],
      "collapsed_sections": [],
      "authorship_tag": "ABX9TyO2djNmASTVyPiY6/qS+SNc",
      "include_colab_link": true
    },
    "kernelspec": {
      "name": "python3",
      "display_name": "Python 3"
    },
    "language_info": {
      "name": "python"
    }
  },
  "cells": [
    {
      "cell_type": "markdown",
      "metadata": {
        "id": "view-in-github",
        "colab_type": "text"
      },
      "source": [
        "<a href=\"https://colab.research.google.com/github/pratik443/F-score-Momentum_implemetation/blob/main/F_Score.ipynb\" target=\"_parent\"><img src=\"https://colab.research.google.com/assets/colab-badge.svg\" alt=\"Open In Colab\"/></a>"
      ]
    },
    {
      "cell_type": "code",
      "execution_count": 31,
      "metadata": {
        "id": "Q76hVDBIdu0O"
      },
      "outputs": [],
      "source": [
        "import requests\n",
        "import pandas as pd\n",
        "from pandas import json_normalize\n",
        "import json"
      ]
    },
    {
      "cell_type": "code",
      "source": [
        "api = 'sandbox'\n",
        "token  = 'Tpk_8d2468bfcd924cd69d65c72317925e57'\n",
        "ticker  = 'AAPL'\n",
        "period = 'annual'\n",
        "last  = '4'"
      ],
      "metadata": {
        "id": "bBmxbXfmeBxr"
      },
      "execution_count": 23,
      "outputs": []
    },
    {
      "cell_type": "code",
      "source": [
        "response = requests.get('https://'+api+'.iexapis.com/stable/stock/'+ticker+'/balance-sheet?period='+period+'&last='+last+'&token='+token)\n",
        "response.status_code"
      ],
      "metadata": {
        "colab": {
          "base_uri": "https://localhost:8080/"
        },
        "id": "hexSVuKbY6cw",
        "outputId": "62d946fd-d046-48d1-9e78-b6dc30c1dd6a"
      },
      "execution_count": 25,
      "outputs": [
        {
          "output_type": "execute_result",
          "data": {
            "text/plain": [
              "200"
            ]
          },
          "metadata": {},
          "execution_count": 25
        }
      ]
    },
    {
      "cell_type": "code",
      "source": [
        "json_dict = response.json()\n",
        "json_dict"
      ],
      "metadata": {
        "colab": {
          "base_uri": "https://localhost:8080/"
        },
        "id": "Jki70zbLZUf_",
        "outputId": "ded1ef4e-1c2c-40ce-fc21-76e2df81e17a"
      },
      "execution_count": 29,
      "outputs": [
        {
          "output_type": "execute_result",
          "data": {
            "text/plain": [
              "{'balancesheet': [{'accountsPayable': 55740804547,\n",
              "   'capitalSurplus': None,\n",
              "   'commonStock': 16877171174,\n",
              "   'currency': 'USD',\n",
              "   'currentAssets': 140607972758,\n",
              "   'currentCash': 64577546034,\n",
              "   'currentLongTermDebt': 15643937604,\n",
              "   'date': 1632528000000,\n",
              "   'filingType': '10-K',\n",
              "   'fiscalDate': '2021-09-22',\n",
              "   'fiscalQuarter': 0,\n",
              "   'fiscalYear': 2037,\n",
              "   'goodwill': 0,\n",
              "   'id': '_BCNHLTEEAAES',\n",
              "   'intangibleAssets': 0,\n",
              "   'inventory': 6795647537,\n",
              "   'key': 'APLA',\n",
              "   'longTermDebt': 110255509177,\n",
              "   'longTermInvestments': 224217993085,\n",
              "   'minorityInterest': 0,\n",
              "   'netTangibleAssets': 63431638936,\n",
              "   'otherAssets': 49776373417,\n",
              "   'otherCurrentAssets': 14511809222,\n",
              "   'otherCurrentLiabilities': 57552158018,\n",
              "   'otherLiabilities': 53711613618,\n",
              "   'propertyPlantEquipment': 40582207452,\n",
              "   'receivables': 53284940981,\n",
              "   'reportDate': '2021-10-18',\n",
              "   'retainedEarnings': 5713488952,\n",
              "   'shareholderEquity': 64166556215,\n",
              "   'shortTermInvestments': 14207122537,\n",
              "   'subkey': 'annual',\n",
              "   'symbol': 'AAPL',\n",
              "   'totalAssets': 364168867454,\n",
              "   'totalCurrentLiabilities': 131466169254,\n",
              "   'totalLiabilities': 295663793980,\n",
              "   'treasuryStock': 0,\n",
              "   'updated': 1726974026348},\n",
              "  {'accountsPayable': 42910308271,\n",
              "   'capitalSurplus': None,\n",
              "   'commonStock': 18042305094,\n",
              "   'currency': 'USD',\n",
              "   'currentAssets': 148495876302,\n",
              "   'currentCash': 93130408257,\n",
              "   'currentLongTermDebt': 14124890569,\n",
              "   'date': 1601078400000,\n",
              "   'filingType': '10-K',\n",
              "   'fiscalDate': '2020-09-20',\n",
              "   'fiscalQuarter': 0,\n",
              "   'fiscalYear': 2069,\n",
              "   'goodwill': 0,\n",
              "   'id': 'ESHACTNLEB_EA',\n",
              "   'intangibleAssets': 0,\n",
              "   'inventory': 4159877248,\n",
              "   'key': 'PLAA',\n",
              "   'longTermDebt': 100186337515,\n",
              "   'longTermInvestments': 188253899001,\n",
              "   'minorityInterest': 0,\n",
              "   'netTangibleAssets': 68205414219,\n",
              "   'otherAssets': 44198025231,\n",
              "   'otherCurrentAssets': 11728125139,\n",
              "   'otherCurrentLiabilities': 49484041141,\n",
              "   'otherLiabilities': 55475712162,\n",
              "   'propertyPlantEquipment': 37355911525,\n",
              "   'receivables': 39031357710,\n",
              "   'reportDate': '2020-10-26',\n",
              "   'retainedEarnings': 15371791788,\n",
              "   'shareholderEquity': 68262688199,\n",
              "   'shortTermInvestments': 11505062812,\n",
              "   'subkey': 'annual',\n",
              "   'symbol': 'AAPL',\n",
              "   'totalAssets': 334730737842,\n",
              "   'totalCurrentLiabilities': 105752196310,\n",
              "   'totalLiabilities': 261183588489,\n",
              "   'treasuryStock': 0,\n",
              "   'updated': 1664260497123},\n",
              "  {'accountsPayable': 47396729115,\n",
              "   'capitalSurplus': None,\n",
              "   'commonStock': 19298952871,\n",
              "   'currency': 'USD',\n",
              "   'currentAssets': 165658617480,\n",
              "   'currentCash': 100962178692,\n",
              "   'currentLongTermDebt': 16969588135,\n",
              "   'date': 1569628800000,\n",
              "   'filingType': '10-K',\n",
              "   'fiscalDate': '2019-09-26',\n",
              "   'fiscalQuarter': 0,\n",
              "   'fiscalYear': 2047,\n",
              "   'goodwill': 0,\n",
              "   'id': 'B_ALNEETHAECS',\n",
              "   'intangibleAssets': 0,\n",
              "   'inventory': 4252481164,\n",
              "   'key': 'AAPL',\n",
              "   'longTermDebt': 93219197236,\n",
              "   'longTermInvestments': 179455910832,\n",
              "   'minorityInterest': 0,\n",
              "   'netTangibleAssets': 93069317094,\n",
              "   'otherAssets': 33259859191,\n",
              "   'otherCurrentAssets': 12775416506,\n",
              "   'otherCurrentLiabilities': 44943142220,\n",
              "   'otherLiabilities': 50710686798,\n",
              "   'propertyPlantEquipment': 38432430854,\n",
              "   'receivables': 46521253185,\n",
              "   'reportDate': '2019-10-20',\n",
              "   'retainedEarnings': 46699079736,\n",
              "   'shareholderEquity': 94831254857,\n",
              "   'shortTermInvestments': 12612658871,\n",
              "   'subkey': 'annual',\n",
              "   'symbol': 'AAPL',\n",
              "   'totalAssets': 353891709335,\n",
              "   'totalCurrentLiabilities': 106623857243,\n",
              "   'totalLiabilities': 248446915771,\n",
              "   'treasuryStock': 0,\n",
              "   'updated': 1732328798845},\n",
              "  {'accountsPayable': 55901820960,\n",
              "   'capitalSurplus': None,\n",
              "   'commonStock': 20617824757,\n",
              "   'currency': 'USD',\n",
              "   'currentAssets': 137557718832,\n",
              "   'currentCash': 68437715208,\n",
              "   'currentLongTermDebt': 21513008982,\n",
              "   'date': 1538179200000,\n",
              "   'filingType': '10-K',\n",
              "   'fiscalDate': '2018-09-19',\n",
              "   'fiscalQuarter': 0,\n",
              "   'fiscalYear': 2050,\n",
              "   'goodwill': 0,\n",
              "   'id': 'EACEHS_LANEBT',\n",
              "   'intangibleAssets': 0,\n",
              "   'inventory': 4150814965,\n",
              "   'key': 'AALP',\n",
              "   'longTermDebt': 94267308305,\n",
              "   'longTermInvestments': 243657792583,\n",
              "   'minorityInterest': 0,\n",
              "   'netTangibleAssets': 111513095060,\n",
              "   'otherAssets': 2029891032,\n",
              "   'otherCurrentAssets': 12421326074,\n",
              "   'otherCurrentLiabilities': 40545398435,\n",
              "   'otherLiabilities': 47719899736,\n",
              "   'propertyPlantEquipment': 43069434332,\n",
              "   'receivables': 49374611286,\n",
              "   'reportDate': '2018-10-31',\n",
              "   'retainedEarnings': 70759225632,\n",
              "   'shareholderEquity': 109879964858,\n",
              "   'shortTermInvestments': 12319285128,\n",
              "   'subkey': 'annual',\n",
              "   'symbol': 'AAPL',\n",
              "   'totalAssets': 381818284158,\n",
              "   'totalCurrentLiabilities': 121477644406,\n",
              "   'totalLiabilities': 266187674770,\n",
              "   'treasuryStock': 0,\n",
              "   'updated': 1661404577248}],\n",
              " 'symbol': 'AAPL'}"
            ]
          },
          "metadata": {},
          "execution_count": 29
        }
      ]
    },
    {
      "cell_type": "code",
      "source": [
        "json_dict = response.json()\n",
        "balance = json_normalize(json_dict, record_path=['balancesheet'])"
      ],
      "metadata": {
        "id": "RejqGZbVZiTk"
      },
      "execution_count": 32,
      "outputs": []
    },
    {
      "cell_type": "code",
      "source": [
        "balance"
      ],
      "metadata": {
        "colab": {
          "base_uri": "https://localhost:8080/",
          "height": 268
        },
        "id": "TuXAS2SVJTZ1",
        "outputId": "098a5723-f117-4419-978d-08d303ff8d71"
      },
      "execution_count": 33,
      "outputs": [
        {
          "output_type": "execute_result",
          "data": {
            "text/plain": [
              "   accountsPayable capitalSurplus  commonStock currency  currentAssets  \\\n",
              "0      55740804547           None  16877171174      USD   140607972758   \n",
              "1      42910308271           None  18042305094      USD   148495876302   \n",
              "2      47396729115           None  19298952871      USD   165658617480   \n",
              "3      55901820960           None  20617824757      USD   137557718832   \n",
              "\n",
              "    currentCash  currentLongTermDebt filingType  fiscalDate  fiscalQuarter  \\\n",
              "0   64577546034          15643937604       10-K  2021-09-22              0   \n",
              "1   93130408257          14124890569       10-K  2020-09-20              0   \n",
              "2  100962178692          16969588135       10-K  2019-09-26              0   \n",
              "3   68437715208          21513008982       10-K  2018-09-19              0   \n",
              "\n",
              "   ...  symbol   totalAssets  totalCurrentLiabilities  totalLiabilities  \\\n",
              "0  ...    AAPL  364168867454             131466169254      295663793980   \n",
              "1  ...    AAPL  334730737842             105752196310      261183588489   \n",
              "2  ...    AAPL  353891709335             106623857243      248446915771   \n",
              "3  ...    AAPL  381818284158             121477644406      266187674770   \n",
              "\n",
              "   treasuryStock             id   key  subkey           date        updated  \n",
              "0              0  _BCNHLTEEAAES  APLA  annual  1632528000000  1726974026348  \n",
              "1              0  ESHACTNLEB_EA  PLAA  annual  1601078400000  1664260497123  \n",
              "2              0  B_ALNEETHAECS  AAPL  annual  1569628800000  1732328798845  \n",
              "3              0  EACEHS_LANEBT  AALP  annual  1538179200000  1661404577248  \n",
              "\n",
              "[4 rows x 38 columns]"
            ],
            "text/html": [
              "\n",
              "  <div id=\"df-f32bd2fa-f140-47dc-9a9f-fefaea174c60\">\n",
              "    <div class=\"colab-df-container\">\n",
              "      <div>\n",
              "<style scoped>\n",
              "    .dataframe tbody tr th:only-of-type {\n",
              "        vertical-align: middle;\n",
              "    }\n",
              "\n",
              "    .dataframe tbody tr th {\n",
              "        vertical-align: top;\n",
              "    }\n",
              "\n",
              "    .dataframe thead th {\n",
              "        text-align: right;\n",
              "    }\n",
              "</style>\n",
              "<table border=\"1\" class=\"dataframe\">\n",
              "  <thead>\n",
              "    <tr style=\"text-align: right;\">\n",
              "      <th></th>\n",
              "      <th>accountsPayable</th>\n",
              "      <th>capitalSurplus</th>\n",
              "      <th>commonStock</th>\n",
              "      <th>currency</th>\n",
              "      <th>currentAssets</th>\n",
              "      <th>currentCash</th>\n",
              "      <th>currentLongTermDebt</th>\n",
              "      <th>filingType</th>\n",
              "      <th>fiscalDate</th>\n",
              "      <th>fiscalQuarter</th>\n",
              "      <th>...</th>\n",
              "      <th>symbol</th>\n",
              "      <th>totalAssets</th>\n",
              "      <th>totalCurrentLiabilities</th>\n",
              "      <th>totalLiabilities</th>\n",
              "      <th>treasuryStock</th>\n",
              "      <th>id</th>\n",
              "      <th>key</th>\n",
              "      <th>subkey</th>\n",
              "      <th>date</th>\n",
              "      <th>updated</th>\n",
              "    </tr>\n",
              "  </thead>\n",
              "  <tbody>\n",
              "    <tr>\n",
              "      <th>0</th>\n",
              "      <td>55740804547</td>\n",
              "      <td>None</td>\n",
              "      <td>16877171174</td>\n",
              "      <td>USD</td>\n",
              "      <td>140607972758</td>\n",
              "      <td>64577546034</td>\n",
              "      <td>15643937604</td>\n",
              "      <td>10-K</td>\n",
              "      <td>2021-09-22</td>\n",
              "      <td>0</td>\n",
              "      <td>...</td>\n",
              "      <td>AAPL</td>\n",
              "      <td>364168867454</td>\n",
              "      <td>131466169254</td>\n",
              "      <td>295663793980</td>\n",
              "      <td>0</td>\n",
              "      <td>_BCNHLTEEAAES</td>\n",
              "      <td>APLA</td>\n",
              "      <td>annual</td>\n",
              "      <td>1632528000000</td>\n",
              "      <td>1726974026348</td>\n",
              "    </tr>\n",
              "    <tr>\n",
              "      <th>1</th>\n",
              "      <td>42910308271</td>\n",
              "      <td>None</td>\n",
              "      <td>18042305094</td>\n",
              "      <td>USD</td>\n",
              "      <td>148495876302</td>\n",
              "      <td>93130408257</td>\n",
              "      <td>14124890569</td>\n",
              "      <td>10-K</td>\n",
              "      <td>2020-09-20</td>\n",
              "      <td>0</td>\n",
              "      <td>...</td>\n",
              "      <td>AAPL</td>\n",
              "      <td>334730737842</td>\n",
              "      <td>105752196310</td>\n",
              "      <td>261183588489</td>\n",
              "      <td>0</td>\n",
              "      <td>ESHACTNLEB_EA</td>\n",
              "      <td>PLAA</td>\n",
              "      <td>annual</td>\n",
              "      <td>1601078400000</td>\n",
              "      <td>1664260497123</td>\n",
              "    </tr>\n",
              "    <tr>\n",
              "      <th>2</th>\n",
              "      <td>47396729115</td>\n",
              "      <td>None</td>\n",
              "      <td>19298952871</td>\n",
              "      <td>USD</td>\n",
              "      <td>165658617480</td>\n",
              "      <td>100962178692</td>\n",
              "      <td>16969588135</td>\n",
              "      <td>10-K</td>\n",
              "      <td>2019-09-26</td>\n",
              "      <td>0</td>\n",
              "      <td>...</td>\n",
              "      <td>AAPL</td>\n",
              "      <td>353891709335</td>\n",
              "      <td>106623857243</td>\n",
              "      <td>248446915771</td>\n",
              "      <td>0</td>\n",
              "      <td>B_ALNEETHAECS</td>\n",
              "      <td>AAPL</td>\n",
              "      <td>annual</td>\n",
              "      <td>1569628800000</td>\n",
              "      <td>1732328798845</td>\n",
              "    </tr>\n",
              "    <tr>\n",
              "      <th>3</th>\n",
              "      <td>55901820960</td>\n",
              "      <td>None</td>\n",
              "      <td>20617824757</td>\n",
              "      <td>USD</td>\n",
              "      <td>137557718832</td>\n",
              "      <td>68437715208</td>\n",
              "      <td>21513008982</td>\n",
              "      <td>10-K</td>\n",
              "      <td>2018-09-19</td>\n",
              "      <td>0</td>\n",
              "      <td>...</td>\n",
              "      <td>AAPL</td>\n",
              "      <td>381818284158</td>\n",
              "      <td>121477644406</td>\n",
              "      <td>266187674770</td>\n",
              "      <td>0</td>\n",
              "      <td>EACEHS_LANEBT</td>\n",
              "      <td>AALP</td>\n",
              "      <td>annual</td>\n",
              "      <td>1538179200000</td>\n",
              "      <td>1661404577248</td>\n",
              "    </tr>\n",
              "  </tbody>\n",
              "</table>\n",
              "<p>4 rows × 38 columns</p>\n",
              "</div>\n",
              "      <button class=\"colab-df-convert\" onclick=\"convertToInteractive('df-f32bd2fa-f140-47dc-9a9f-fefaea174c60')\"\n",
              "              title=\"Convert this dataframe to an interactive table.\"\n",
              "              style=\"display:none;\">\n",
              "        \n",
              "  <svg xmlns=\"http://www.w3.org/2000/svg\" height=\"24px\"viewBox=\"0 0 24 24\"\n",
              "       width=\"24px\">\n",
              "    <path d=\"M0 0h24v24H0V0z\" fill=\"none\"/>\n",
              "    <path d=\"M18.56 5.44l.94 2.06.94-2.06 2.06-.94-2.06-.94-.94-2.06-.94 2.06-2.06.94zm-11 1L8.5 8.5l.94-2.06 2.06-.94-2.06-.94L8.5 2.5l-.94 2.06-2.06.94zm10 10l.94 2.06.94-2.06 2.06-.94-2.06-.94-.94-2.06-.94 2.06-2.06.94z\"/><path d=\"M17.41 7.96l-1.37-1.37c-.4-.4-.92-.59-1.43-.59-.52 0-1.04.2-1.43.59L10.3 9.45l-7.72 7.72c-.78.78-.78 2.05 0 2.83L4 21.41c.39.39.9.59 1.41.59.51 0 1.02-.2 1.41-.59l7.78-7.78 2.81-2.81c.8-.78.8-2.07 0-2.86zM5.41 20L4 18.59l7.72-7.72 1.47 1.35L5.41 20z\"/>\n",
              "  </svg>\n",
              "      </button>\n",
              "      \n",
              "  <style>\n",
              "    .colab-df-container {\n",
              "      display:flex;\n",
              "      flex-wrap:wrap;\n",
              "      gap: 12px;\n",
              "    }\n",
              "\n",
              "    .colab-df-convert {\n",
              "      background-color: #E8F0FE;\n",
              "      border: none;\n",
              "      border-radius: 50%;\n",
              "      cursor: pointer;\n",
              "      display: none;\n",
              "      fill: #1967D2;\n",
              "      height: 32px;\n",
              "      padding: 0 0 0 0;\n",
              "      width: 32px;\n",
              "    }\n",
              "\n",
              "    .colab-df-convert:hover {\n",
              "      background-color: #E2EBFA;\n",
              "      box-shadow: 0px 1px 2px rgba(60, 64, 67, 0.3), 0px 1px 3px 1px rgba(60, 64, 67, 0.15);\n",
              "      fill: #174EA6;\n",
              "    }\n",
              "\n",
              "    [theme=dark] .colab-df-convert {\n",
              "      background-color: #3B4455;\n",
              "      fill: #D2E3FC;\n",
              "    }\n",
              "\n",
              "    [theme=dark] .colab-df-convert:hover {\n",
              "      background-color: #434B5C;\n",
              "      box-shadow: 0px 1px 3px 1px rgba(0, 0, 0, 0.15);\n",
              "      filter: drop-shadow(0px 1px 2px rgba(0, 0, 0, 0.3));\n",
              "      fill: #FFFFFF;\n",
              "    }\n",
              "  </style>\n",
              "\n",
              "      <script>\n",
              "        const buttonEl =\n",
              "          document.querySelector('#df-f32bd2fa-f140-47dc-9a9f-fefaea174c60 button.colab-df-convert');\n",
              "        buttonEl.style.display =\n",
              "          google.colab.kernel.accessAllowed ? 'block' : 'none';\n",
              "\n",
              "        async function convertToInteractive(key) {\n",
              "          const element = document.querySelector('#df-f32bd2fa-f140-47dc-9a9f-fefaea174c60');\n",
              "          const dataTable =\n",
              "            await google.colab.kernel.invokeFunction('convertToInteractive',\n",
              "                                                     [key], {});\n",
              "          if (!dataTable) return;\n",
              "\n",
              "          const docLinkHtml = 'Like what you see? Visit the ' +\n",
              "            '<a target=\"_blank\" href=https://colab.research.google.com/notebooks/data_table.ipynb>data table notebook</a>'\n",
              "            + ' to learn more about interactive tables.';\n",
              "          element.innerHTML = '';\n",
              "          dataTable['output_type'] = 'display_data';\n",
              "          await google.colab.output.renderOutput(dataTable, element);\n",
              "          const docLink = document.createElement('div');\n",
              "          docLink.innerHTML = docLinkHtml;\n",
              "          element.appendChild(docLink);\n",
              "        }\n",
              "      </script>\n",
              "    </div>\n",
              "  </div>\n",
              "  "
            ]
          },
          "metadata": {},
          "execution_count": 33
        }
      ]
    },
    {
      "cell_type": "code",
      "source": [
        "# get income statement\n",
        "response = requests.get('https://'+api+'.iexapis.com/stable/stock/'+ticker+'/income?period='+period+'&last='+last+'&token='+token)\n",
        "response.status_code"
      ],
      "metadata": {
        "colab": {
          "base_uri": "https://localhost:8080/"
        },
        "id": "jCJL2yi8JiPr",
        "outputId": "8d79b642-9b7f-4b08-a298-af42f3611a38"
      },
      "execution_count": 37,
      "outputs": [
        {
          "output_type": "execute_result",
          "data": {
            "text/plain": [
              "200"
            ]
          },
          "metadata": {},
          "execution_count": 37
        }
      ]
    },
    {
      "cell_type": "code",
      "source": [
        "json_dict = response.json()\n",
        "income = json_normalize(json_dict, record_path=['income'])"
      ],
      "metadata": {
        "id": "ccQsDAi6Jv4S"
      },
      "execution_count": 38,
      "outputs": []
    },
    {
      "cell_type": "code",
      "source": [
        "# get cash flow statement\n",
        "response = requests.get('https://'+api+'.iexapis.com/stable/stock/'+ticker+'/cash-flow?period='+period+'&last='+last+'&token='+token)\n",
        "response.status_code"
      ],
      "metadata": {
        "colab": {
          "base_uri": "https://localhost:8080/"
        },
        "id": "uXBlsWt9J-nw",
        "outputId": "be002b82-1819-483b-9aef-b414f0f6ae9f"
      },
      "execution_count": 39,
      "outputs": [
        {
          "output_type": "execute_result",
          "data": {
            "text/plain": [
              "200"
            ]
          },
          "metadata": {},
          "execution_count": 39
        }
      ]
    },
    {
      "cell_type": "code",
      "source": [
        "json_dict = response.json()\n",
        "cashflow = json_normalize(json_dict, record_path=['cashflow'])"
      ],
      "metadata": {
        "id": "jnv-wL6CKAwQ"
      },
      "execution_count": 42,
      "outputs": []
    },
    {
      "cell_type": "code",
      "source": [
        "cashflow.columns"
      ],
      "metadata": {
        "colab": {
          "base_uri": "https://localhost:8080/"
        },
        "id": "a-EPJFw5KCnm",
        "outputId": "752b6082-bd68-49aa-e573-049da9b9589e"
      },
      "execution_count": 41,
      "outputs": [
        {
          "output_type": "execute_result",
          "data": {
            "text/plain": [
              "Index(['capitalExpenditures', 'cashChange', 'cashFlow', 'cashFlowFinancing',\n",
              "       'changesInInventories', 'changesInReceivables', 'currency',\n",
              "       'depreciation', 'dividendsPaid', 'exchangeRateEffect', 'filingType',\n",
              "       'fiscalDate', 'fiscalQuarter', 'fiscalYear', 'investingActivityOther',\n",
              "       'investments', 'netBorrowings', 'netIncome', 'otherFinancingCashFlows',\n",
              "       'reportDate', 'symbol', 'totalInvestingCashFlows', 'id', 'key',\n",
              "       'subkey', 'date', 'updated'],\n",
              "      dtype='object')"
            ]
          },
          "metadata": {},
          "execution_count": 41
        }
      ]
    },
    {
      "cell_type": "code",
      "source": [
        "balance.columns"
      ],
      "metadata": {
        "colab": {
          "base_uri": "https://localhost:8080/"
        },
        "id": "P7ALWIXLKEqJ",
        "outputId": "92d217c7-2f78-4171-ddbe-f6362e30c620"
      },
      "execution_count": 43,
      "outputs": [
        {
          "output_type": "execute_result",
          "data": {
            "text/plain": [
              "Index(['accountsPayable', 'capitalSurplus', 'commonStock', 'currency',\n",
              "       'currentAssets', 'currentCash', 'currentLongTermDebt', 'filingType',\n",
              "       'fiscalDate', 'fiscalQuarter', 'fiscalYear', 'goodwill',\n",
              "       'intangibleAssets', 'inventory', 'longTermDebt', 'longTermInvestments',\n",
              "       'minorityInterest', 'netTangibleAssets', 'otherAssets',\n",
              "       'otherCurrentAssets', 'otherCurrentLiabilities', 'otherLiabilities',\n",
              "       'propertyPlantEquipment', 'receivables', 'reportDate',\n",
              "       'retainedEarnings', 'shareholderEquity', 'shortTermInvestments',\n",
              "       'symbol', 'totalAssets', 'totalCurrentLiabilities', 'totalLiabilities',\n",
              "       'treasuryStock', 'id', 'key', 'subkey', 'date', 'updated'],\n",
              "      dtype='object')"
            ]
          },
          "metadata": {},
          "execution_count": 43
        }
      ]
    },
    {
      "cell_type": "code",
      "source": [
        "income.columns"
      ],
      "metadata": {
        "colab": {
          "base_uri": "https://localhost:8080/"
        },
        "id": "jyJ6n39HKH6w",
        "outputId": "870cc126-f83e-4f87-e792-7f77e4b79076"
      },
      "execution_count": 44,
      "outputs": [
        {
          "output_type": "execute_result",
          "data": {
            "text/plain": [
              "Index(['costOfRevenue', 'currency', 'ebit', 'filingType', 'fiscalDate',\n",
              "       'fiscalQuarter', 'fiscalYear', 'grossProfit', 'incomeTax',\n",
              "       'interestIncome', 'minorityInterest', 'netIncome', 'netIncomeBasic',\n",
              "       'operatingExpense', 'operatingIncome', 'otherIncomeExpenseNet',\n",
              "       'pretaxIncome', 'reportDate', 'researchAndDevelopment',\n",
              "       'sellingGeneralAndAdmin', 'symbol', 'totalRevenue', 'id', 'key',\n",
              "       'subkey', 'date', 'updated'],\n",
              "      dtype='object')"
            ]
          },
          "metadata": {},
          "execution_count": 44
        }
      ]
    },
    {
      "cell_type": "code",
      "source": [
        "income"
      ],
      "metadata": {
        "colab": {
          "base_uri": "https://localhost:8080/",
          "height": 268
        },
        "id": "vKh0582QKMTr",
        "outputId": "213a8e88-e39d-40f8-b2a6-9024d001ea1a"
      },
      "execution_count": 45,
      "outputs": [
        {
          "output_type": "execute_result",
          "data": {
            "text/plain": [
              "   costOfRevenue currency          ebit filingType  fiscalDate  fiscalQuarter  \\\n",
              "0   215650084410      USD  111227570786       10-K  2021-09-25              0   \n",
              "1   174460649541      USD   69071490104       10-K  2020-09-26              0   \n",
              "2   168516850155      USD   66899812514       10-K  2019-09-16              0   \n",
              "3   167784400561      USD   72086869328       10-K  2018-09-15              0   \n",
              "\n",
              "   fiscalYear   grossProfit    incomeTax  interestIncome  ...  reportDate  \\\n",
              "0        2091  153517998472  14649332744      2675497295  ...  2021-10-20   \n",
              "1        2061  105820020934  10135703269      2952294025  ...  2020-10-15   \n",
              "2        2056  103206120446  10551273180      3578794855  ...  2019-10-18   \n",
              "3        2055  103574127160  13428948119      3345454740  ...  2018-10-28   \n",
              "\n",
              "   researchAndDevelopment  sellingGeneralAndAdmin  symbol  totalRevenue  \\\n",
              "0             22740203033             22436474926    AAPL  380024795299   \n",
              "1             19235357124             20436236803    AAPL  285466120556   \n",
              "2             16231800559             19096829350    AAPL  270097447276   \n",
              "3             14835557076             17108835031    AAPL  268109537578   \n",
              "\n",
              "       id   key  subkey           date        updated  \n",
              "0  EIMONC  AALP  annual  1632528000000  1690799080275  \n",
              "1  IMNCEO  ALPA  annual  1601078400000  1699731982936  \n",
              "2  NICMEO  ALPA  annual  1569628800000  1732632221207  \n",
              "3  MOIECN  ALAP  annual  1538179200000  1695779537730  \n",
              "\n",
              "[4 rows x 27 columns]"
            ],
            "text/html": [
              "\n",
              "  <div id=\"df-2c5e9c0f-7983-4d4d-b805-65f5da629a9d\">\n",
              "    <div class=\"colab-df-container\">\n",
              "      <div>\n",
              "<style scoped>\n",
              "    .dataframe tbody tr th:only-of-type {\n",
              "        vertical-align: middle;\n",
              "    }\n",
              "\n",
              "    .dataframe tbody tr th {\n",
              "        vertical-align: top;\n",
              "    }\n",
              "\n",
              "    .dataframe thead th {\n",
              "        text-align: right;\n",
              "    }\n",
              "</style>\n",
              "<table border=\"1\" class=\"dataframe\">\n",
              "  <thead>\n",
              "    <tr style=\"text-align: right;\">\n",
              "      <th></th>\n",
              "      <th>costOfRevenue</th>\n",
              "      <th>currency</th>\n",
              "      <th>ebit</th>\n",
              "      <th>filingType</th>\n",
              "      <th>fiscalDate</th>\n",
              "      <th>fiscalQuarter</th>\n",
              "      <th>fiscalYear</th>\n",
              "      <th>grossProfit</th>\n",
              "      <th>incomeTax</th>\n",
              "      <th>interestIncome</th>\n",
              "      <th>...</th>\n",
              "      <th>reportDate</th>\n",
              "      <th>researchAndDevelopment</th>\n",
              "      <th>sellingGeneralAndAdmin</th>\n",
              "      <th>symbol</th>\n",
              "      <th>totalRevenue</th>\n",
              "      <th>id</th>\n",
              "      <th>key</th>\n",
              "      <th>subkey</th>\n",
              "      <th>date</th>\n",
              "      <th>updated</th>\n",
              "    </tr>\n",
              "  </thead>\n",
              "  <tbody>\n",
              "    <tr>\n",
              "      <th>0</th>\n",
              "      <td>215650084410</td>\n",
              "      <td>USD</td>\n",
              "      <td>111227570786</td>\n",
              "      <td>10-K</td>\n",
              "      <td>2021-09-25</td>\n",
              "      <td>0</td>\n",
              "      <td>2091</td>\n",
              "      <td>153517998472</td>\n",
              "      <td>14649332744</td>\n",
              "      <td>2675497295</td>\n",
              "      <td>...</td>\n",
              "      <td>2021-10-20</td>\n",
              "      <td>22740203033</td>\n",
              "      <td>22436474926</td>\n",
              "      <td>AAPL</td>\n",
              "      <td>380024795299</td>\n",
              "      <td>EIMONC</td>\n",
              "      <td>AALP</td>\n",
              "      <td>annual</td>\n",
              "      <td>1632528000000</td>\n",
              "      <td>1690799080275</td>\n",
              "    </tr>\n",
              "    <tr>\n",
              "      <th>1</th>\n",
              "      <td>174460649541</td>\n",
              "      <td>USD</td>\n",
              "      <td>69071490104</td>\n",
              "      <td>10-K</td>\n",
              "      <td>2020-09-26</td>\n",
              "      <td>0</td>\n",
              "      <td>2061</td>\n",
              "      <td>105820020934</td>\n",
              "      <td>10135703269</td>\n",
              "      <td>2952294025</td>\n",
              "      <td>...</td>\n",
              "      <td>2020-10-15</td>\n",
              "      <td>19235357124</td>\n",
              "      <td>20436236803</td>\n",
              "      <td>AAPL</td>\n",
              "      <td>285466120556</td>\n",
              "      <td>IMNCEO</td>\n",
              "      <td>ALPA</td>\n",
              "      <td>annual</td>\n",
              "      <td>1601078400000</td>\n",
              "      <td>1699731982936</td>\n",
              "    </tr>\n",
              "    <tr>\n",
              "      <th>2</th>\n",
              "      <td>168516850155</td>\n",
              "      <td>USD</td>\n",
              "      <td>66899812514</td>\n",
              "      <td>10-K</td>\n",
              "      <td>2019-09-16</td>\n",
              "      <td>0</td>\n",
              "      <td>2056</td>\n",
              "      <td>103206120446</td>\n",
              "      <td>10551273180</td>\n",
              "      <td>3578794855</td>\n",
              "      <td>...</td>\n",
              "      <td>2019-10-18</td>\n",
              "      <td>16231800559</td>\n",
              "      <td>19096829350</td>\n",
              "      <td>AAPL</td>\n",
              "      <td>270097447276</td>\n",
              "      <td>NICMEO</td>\n",
              "      <td>ALPA</td>\n",
              "      <td>annual</td>\n",
              "      <td>1569628800000</td>\n",
              "      <td>1732632221207</td>\n",
              "    </tr>\n",
              "    <tr>\n",
              "      <th>3</th>\n",
              "      <td>167784400561</td>\n",
              "      <td>USD</td>\n",
              "      <td>72086869328</td>\n",
              "      <td>10-K</td>\n",
              "      <td>2018-09-15</td>\n",
              "      <td>0</td>\n",
              "      <td>2055</td>\n",
              "      <td>103574127160</td>\n",
              "      <td>13428948119</td>\n",
              "      <td>3345454740</td>\n",
              "      <td>...</td>\n",
              "      <td>2018-10-28</td>\n",
              "      <td>14835557076</td>\n",
              "      <td>17108835031</td>\n",
              "      <td>AAPL</td>\n",
              "      <td>268109537578</td>\n",
              "      <td>MOIECN</td>\n",
              "      <td>ALAP</td>\n",
              "      <td>annual</td>\n",
              "      <td>1538179200000</td>\n",
              "      <td>1695779537730</td>\n",
              "    </tr>\n",
              "  </tbody>\n",
              "</table>\n",
              "<p>4 rows × 27 columns</p>\n",
              "</div>\n",
              "      <button class=\"colab-df-convert\" onclick=\"convertToInteractive('df-2c5e9c0f-7983-4d4d-b805-65f5da629a9d')\"\n",
              "              title=\"Convert this dataframe to an interactive table.\"\n",
              "              style=\"display:none;\">\n",
              "        \n",
              "  <svg xmlns=\"http://www.w3.org/2000/svg\" height=\"24px\"viewBox=\"0 0 24 24\"\n",
              "       width=\"24px\">\n",
              "    <path d=\"M0 0h24v24H0V0z\" fill=\"none\"/>\n",
              "    <path d=\"M18.56 5.44l.94 2.06.94-2.06 2.06-.94-2.06-.94-.94-2.06-.94 2.06-2.06.94zm-11 1L8.5 8.5l.94-2.06 2.06-.94-2.06-.94L8.5 2.5l-.94 2.06-2.06.94zm10 10l.94 2.06.94-2.06 2.06-.94-2.06-.94-.94-2.06-.94 2.06-2.06.94z\"/><path d=\"M17.41 7.96l-1.37-1.37c-.4-.4-.92-.59-1.43-.59-.52 0-1.04.2-1.43.59L10.3 9.45l-7.72 7.72c-.78.78-.78 2.05 0 2.83L4 21.41c.39.39.9.59 1.41.59.51 0 1.02-.2 1.41-.59l7.78-7.78 2.81-2.81c.8-.78.8-2.07 0-2.86zM5.41 20L4 18.59l7.72-7.72 1.47 1.35L5.41 20z\"/>\n",
              "  </svg>\n",
              "      </button>\n",
              "      \n",
              "  <style>\n",
              "    .colab-df-container {\n",
              "      display:flex;\n",
              "      flex-wrap:wrap;\n",
              "      gap: 12px;\n",
              "    }\n",
              "\n",
              "    .colab-df-convert {\n",
              "      background-color: #E8F0FE;\n",
              "      border: none;\n",
              "      border-radius: 50%;\n",
              "      cursor: pointer;\n",
              "      display: none;\n",
              "      fill: #1967D2;\n",
              "      height: 32px;\n",
              "      padding: 0 0 0 0;\n",
              "      width: 32px;\n",
              "    }\n",
              "\n",
              "    .colab-df-convert:hover {\n",
              "      background-color: #E2EBFA;\n",
              "      box-shadow: 0px 1px 2px rgba(60, 64, 67, 0.3), 0px 1px 3px 1px rgba(60, 64, 67, 0.15);\n",
              "      fill: #174EA6;\n",
              "    }\n",
              "\n",
              "    [theme=dark] .colab-df-convert {\n",
              "      background-color: #3B4455;\n",
              "      fill: #D2E3FC;\n",
              "    }\n",
              "\n",
              "    [theme=dark] .colab-df-convert:hover {\n",
              "      background-color: #434B5C;\n",
              "      box-shadow: 0px 1px 3px 1px rgba(0, 0, 0, 0.15);\n",
              "      filter: drop-shadow(0px 1px 2px rgba(0, 0, 0, 0.3));\n",
              "      fill: #FFFFFF;\n",
              "    }\n",
              "  </style>\n",
              "\n",
              "      <script>\n",
              "        const buttonEl =\n",
              "          document.querySelector('#df-2c5e9c0f-7983-4d4d-b805-65f5da629a9d button.colab-df-convert');\n",
              "        buttonEl.style.display =\n",
              "          google.colab.kernel.accessAllowed ? 'block' : 'none';\n",
              "\n",
              "        async function convertToInteractive(key) {\n",
              "          const element = document.querySelector('#df-2c5e9c0f-7983-4d4d-b805-65f5da629a9d');\n",
              "          const dataTable =\n",
              "            await google.colab.kernel.invokeFunction('convertToInteractive',\n",
              "                                                     [key], {});\n",
              "          if (!dataTable) return;\n",
              "\n",
              "          const docLinkHtml = 'Like what you see? Visit the ' +\n",
              "            '<a target=\"_blank\" href=https://colab.research.google.com/notebooks/data_table.ipynb>data table notebook</a>'\n",
              "            + ' to learn more about interactive tables.';\n",
              "          element.innerHTML = '';\n",
              "          dataTable['output_type'] = 'display_data';\n",
              "          await google.colab.output.renderOutput(dataTable, element);\n",
              "          const docLink = document.createElement('div');\n",
              "          docLink.innerHTML = docLinkHtml;\n",
              "          element.appendChild(docLink);\n",
              "        }\n",
              "      </script>\n",
              "    </div>\n",
              "  </div>\n",
              "  "
            ]
          },
          "metadata": {},
          "execution_count": 45
        }
      ]
    },
    {
      "cell_type": "code",
      "source": [
        "balance.iloc[0]"
      ],
      "metadata": {
        "colab": {
          "base_uri": "https://localhost:8080/"
        },
        "id": "TfeLh0XOKQgn",
        "outputId": "122c1e82-d0e0-46d3-879c-62774d498bc7"
      },
      "execution_count": 46,
      "outputs": [
        {
          "output_type": "execute_result",
          "data": {
            "text/plain": [
              "accountsPayable              55740804547\n",
              "capitalSurplus                      None\n",
              "commonStock                  16877171174\n",
              "currency                             USD\n",
              "currentAssets               140607972758\n",
              "currentCash                  64577546034\n",
              "currentLongTermDebt          15643937604\n",
              "filingType                          10-K\n",
              "fiscalDate                    2021-09-22\n",
              "fiscalQuarter                          0\n",
              "fiscalYear                          2037\n",
              "goodwill                               0\n",
              "intangibleAssets                       0\n",
              "inventory                     6795647537\n",
              "longTermDebt                110255509177\n",
              "longTermInvestments         224217993085\n",
              "minorityInterest                       0\n",
              "netTangibleAssets            63431638936\n",
              "otherAssets                  49776373417\n",
              "otherCurrentAssets           14511809222\n",
              "otherCurrentLiabilities      57552158018\n",
              "otherLiabilities             53711613618\n",
              "propertyPlantEquipment       40582207452\n",
              "receivables                  53284940981\n",
              "reportDate                    2021-10-18\n",
              "retainedEarnings              5713488952\n",
              "shareholderEquity            64166556215\n",
              "shortTermInvestments         14207122537\n",
              "symbol                              AAPL\n",
              "totalAssets                 364168867454\n",
              "totalCurrentLiabilities     131466169254\n",
              "totalLiabilities            295663793980\n",
              "treasuryStock                          0\n",
              "id                         _BCNHLTEEAAES\n",
              "key                                 APLA\n",
              "subkey                            annual\n",
              "date                       1632528000000\n",
              "updated                    1726974026348\n",
              "Name: 0, dtype: object"
            ]
          },
          "metadata": {},
          "execution_count": 46
        }
      ]
    },
    {
      "cell_type": "code",
      "source": [
        "income.iloc[0]"
      ],
      "metadata": {
        "colab": {
          "base_uri": "https://localhost:8080/"
        },
        "id": "w9JTdPQ6KYF1",
        "outputId": "40954def-56c1-4549-a382-e80368e1c6c1"
      },
      "execution_count": 47,
      "outputs": [
        {
          "output_type": "execute_result",
          "data": {
            "text/plain": [
              "costOfRevenue              215650084410\n",
              "currency                            USD\n",
              "ebit                       111227570786\n",
              "filingType                         10-K\n",
              "fiscalDate                   2021-09-25\n",
              "fiscalQuarter                         0\n",
              "fiscalYear                         2091\n",
              "grossProfit                153517998472\n",
              "incomeTax                   14649332744\n",
              "interestIncome               2675497295\n",
              "minorityInterest                      0\n",
              "netIncome                   98508693534\n",
              "netIncomeBasic              99099739056\n",
              "operatingExpense           267945725830\n",
              "operatingIncome            112844300666\n",
              "otherIncomeExpenseNet                 0\n",
              "pretaxIncome               114269456929\n",
              "reportDate                   2021-10-20\n",
              "researchAndDevelopment      22740203033\n",
              "sellingGeneralAndAdmin      22436474926\n",
              "symbol                             AAPL\n",
              "totalRevenue               380024795299\n",
              "id                               EIMONC\n",
              "key                                AALP\n",
              "subkey                           annual\n",
              "date                      1632528000000\n",
              "updated                   1690799080275\n",
              "Name: 0, dtype: object"
            ]
          },
          "metadata": {},
          "execution_count": 47
        }
      ]
    },
    {
      "cell_type": "code",
      "source": [
        "cashflow.iloc[0]"
      ],
      "metadata": {
        "colab": {
          "base_uri": "https://localhost:8080/"
        },
        "id": "1dV_fEvmKakD",
        "outputId": "c6070af2-664d-4b3c-cba4-54e5f98c0a7c"
      },
      "execution_count": 48,
      "outputs": [
        {
          "output_type": "execute_result",
          "data": {
            "text/plain": [
              "capitalExpenditures         -11221831002\n",
              "cashChange                  -28795120134\n",
              "cashFlow                    106848205836\n",
              "cashFlowFinancing           -96184365706\n",
              "changesInInventories          2591289828\n",
              "changesInReceivables         14545028731\n",
              "currency                             USD\n",
              "depreciation                 11410944012\n",
              "dividendsPaid                       None\n",
              "exchangeRateEffect                  None\n",
              "filingType                          10-K\n",
              "fiscalDate                    2021-09-23\n",
              "fiscalQuarter                          0\n",
              "fiscalYear                          2104\n",
              "investingActivityOther              None\n",
              "investments                         None\n",
              "netBorrowings                49733828878\n",
              "netIncome                    94780507485\n",
              "otherFinancingCashFlows             None\n",
              "reportDate                    2021-10-21\n",
              "symbol                              AAPL\n",
              "totalInvestingCashFlows     -15064853488\n",
              "id                             C_AWSLHOF\n",
              "key                                 APAL\n",
              "subkey                            annual\n",
              "date                       1632528000000\n",
              "updated                    1654589936042\n",
              "Name: 0, dtype: object"
            ]
          },
          "metadata": {},
          "execution_count": 48
        }
      ]
    },
    {
      "cell_type": "markdown",
      "source": [
        "### Calculation of F_score"
      ],
      "metadata": {
        "id": "OeXiry0rKgMx"
      }
    },
    {
      "cell_type": "code",
      "source": [
        "f_score  = 0"
      ],
      "metadata": {
        "id": "elswbsURKdcx"
      },
      "execution_count": 51,
      "outputs": []
    },
    {
      "cell_type": "code",
      "source": [
        "# Profitability\n",
        "\n",
        "# 1. Return on Assets\n",
        "print(income.iloc[0]['netIncome']/balance.iloc[1]['totalAssets'])\n",
        "\n",
        "if income.iloc[0]['netIncome']/balance.iloc[1]['totalAssets'] > 0:\n",
        "    f_score += 1\n",
        "else:\n",
        "    f_score += 0\n",
        "f_score"
      ],
      "metadata": {
        "colab": {
          "base_uri": "https://localhost:8080/"
        },
        "id": "hKCChYkYKsWU",
        "outputId": "f089bdc5-29c8-4e2a-9401-41f477d7174d"
      },
      "execution_count": 52,
      "outputs": [
        {
          "output_type": "execute_result",
          "data": {
            "text/plain": [
              "1"
            ]
          },
          "metadata": {},
          "execution_count": 52
        }
      ]
    },
    {
      "cell_type": "code",
      "source": [
        "# 2. Operating Cash Flow\n",
        "print(cashflow.iloc[0]['cashFlow'])\n",
        "\n",
        "if cashflow.iloc[0]['cashFlow'] > 0:\n",
        "    f_score += 1\n",
        "else:\n",
        "    f_score += 0\n",
        "f_score"
      ],
      "metadata": {
        "colab": {
          "base_uri": "https://localhost:8080/"
        },
        "id": "3j00gzWNK2lb",
        "outputId": "b6ea2885-53b5-4349-ac28-7aa140f69071"
      },
      "execution_count": 53,
      "outputs": [
        {
          "output_type": "stream",
          "name": "stdout",
          "text": [
            "106848205836\n"
          ]
        },
        {
          "output_type": "execute_result",
          "data": {
            "text/plain": [
              "2"
            ]
          },
          "metadata": {},
          "execution_count": 53
        }
      ]
    },
    {
      "cell_type": "code",
      "source": [
        "# 3. Change in Return on Assets\n",
        "print(income.iloc[0]['netIncome']/balance.iloc[1]['totalAssets'])\n",
        "print(income.iloc[1]['netIncome']/balance.iloc[2]['totalAssets'])\n",
        "\n",
        "if income.iloc[0]['netIncome']/balance.iloc[1]['totalAssets'] > income.iloc[1]['netIncome']/balance.iloc[2]['totalAssets']:\n",
        "    f_score += 1\n",
        "else:\n",
        "    f_score += 0\n",
        "f_score"
      ],
      "metadata": {
        "colab": {
          "base_uri": "https://localhost:8080/"
        },
        "id": "1oVcfZn4LD-J",
        "outputId": "44edc0a1-0d55-4b6c-8954-e2d3085814db"
      },
      "execution_count": 54,
      "outputs": [
        {
          "output_type": "stream",
          "name": "stdout",
          "text": [
            "0.2942923442558125\n",
            "0.16490937628254906\n"
          ]
        },
        {
          "output_type": "execute_result",
          "data": {
            "text/plain": [
              "3"
            ]
          },
          "metadata": {},
          "execution_count": 54
        }
      ]
    },
    {
      "cell_type": "code",
      "source": [
        "# 4. Accruals\n",
        "print(cashflow.iloc[0]['cashFlow']/balance.iloc[1]['totalAssets'])\n",
        "print(income.iloc[0]['netIncome']/balance.iloc[1]['totalAssets'])\n",
        "\n",
        "if cashflow.iloc[0]['cashFlow']/balance.iloc[1]['totalAssets'] > income.iloc[0]['netIncome']/balance.iloc[1]['totalAssets']:\n",
        "    f_score += 1\n",
        "else:\n",
        "    f_score += 0\n",
        "f_score"
      ],
      "metadata": {
        "colab": {
          "base_uri": "https://localhost:8080/"
        },
        "id": "THe-cRs9LbAs",
        "outputId": "36b309cd-1946-4103-814e-cb51666387fd"
      },
      "execution_count": 55,
      "outputs": [
        {
          "output_type": "stream",
          "name": "stdout",
          "text": [
            "0.31920643596954223\n",
            "0.2942923442558125\n"
          ]
        },
        {
          "output_type": "execute_result",
          "data": {
            "text/plain": [
              "4"
            ]
          },
          "metadata": {},
          "execution_count": 55
        }
      ]
    },
    {
      "cell_type": "code",
      "source": [
        "# Leverage, Liquidity and Source of Funds\n",
        "\n",
        "# 5. Change in Leverage (long-term) Ratio\n",
        "print(balance.iloc[0]['longTermDebt']/balance.iloc[0]['totalAssets'])\n",
        "print(balance.iloc[1]['longTermDebt']/balance.iloc[1]['totalAssets'])\n",
        "\n",
        "if balance.iloc[0]['longTermDebt']/balance.iloc[0]['totalAssets'] < balance.iloc[1]['longTermDebt']/balance.iloc[1]['totalAssets']:\n",
        "    f_score += 1\n",
        "else:\n",
        "    f_score += 0\n",
        "f_score"
      ],
      "metadata": {
        "colab": {
          "base_uri": "https://localhost:8080/"
        },
        "id": "rdxhuqPeLoFS",
        "outputId": "1345aeec-429b-4059-a35c-79d7482e11db"
      },
      "execution_count": 56,
      "outputs": [
        {
          "output_type": "stream",
          "name": "stdout",
          "text": [
            "0.3027592939172016\n",
            "0.2993042651562226\n"
          ]
        },
        {
          "output_type": "execute_result",
          "data": {
            "text/plain": [
              "4"
            ]
          },
          "metadata": {},
          "execution_count": 56
        }
      ]
    },
    {
      "cell_type": "code",
      "source": [
        "# 6. Change in Current Ratio\n",
        "print(balance.iloc[0]['currentAssets'] / balance.iloc[0]['totalCurrentLiabilities'])\n",
        "print(balance.iloc[1]['currentAssets'] / balance.iloc[1]['totalCurrentLiabilities'])\n",
        "\n",
        "if balance.iloc[0]['currentAssets'] / balance.iloc[0]['totalCurrentLiabilities'] > balance.iloc[1]['currentAssets'] / balance.iloc[1]['totalCurrentLiabilities']:\n",
        "    f_score += 1\n",
        "else:\n",
        "    f_score += 0\n",
        "f_score"
      ],
      "metadata": {
        "colab": {
          "base_uri": "https://localhost:8080/"
        },
        "id": "uqEDbRsCMGGz",
        "outputId": "8323c728-b77c-4894-cb07-134d97d7dcfb"
      },
      "execution_count": 57,
      "outputs": [
        {
          "output_type": "stream",
          "name": "stdout",
          "text": [
            "1.0695373080076405\n",
            "1.4041871609616692\n"
          ]
        },
        {
          "output_type": "execute_result",
          "data": {
            "text/plain": [
              "4"
            ]
          },
          "metadata": {},
          "execution_count": 57
        }
      ]
    },
    {
      "cell_type": "code",
      "source": [
        "# 7. Change in the Number of Shares\n",
        "\n",
        "# get shares issued\n",
        "response = requests.get('https://'+api+'.iexapis.com/stable/stock/'+ticker+'/stats/sharesOutstanding?token='+token)\n",
        "response.status_code\n",
        "shares = response.json()\n",
        "shares"
      ],
      "metadata": {
        "colab": {
          "base_uri": "https://localhost:8080/"
        },
        "id": "EGikqptoMQf4",
        "outputId": "7b72f663-73a7-47cf-c837-d078163f44ff"
      },
      "execution_count": 58,
      "outputs": [
        {
          "output_type": "execute_result",
          "data": {
            "text/plain": [
              "16432271181"
            ]
          },
          "metadata": {},
          "execution_count": 58
        }
      ]
    },
    {
      "cell_type": "code",
      "source": [
        "response = requests.get('https://'+api+'.iexapis.com/stable/time-series/REPORTED_FINANCIALS/'+ticker+'/10-K?token='+token)\n",
        "response.status_code\n",
        "\n",
        "json_dict = response.json()\n",
        "financials = json_normalize(json_dict)\n",
        "\n",
        "financials['CommonStockSharesIssued'].iloc[0]"
      ],
      "metadata": {
        "colab": {
          "base_uri": "https://localhost:8080/"
        },
        "id": "sKrWzhEvMa5N",
        "outputId": "345737bc-8d8b-478e-c1eb-724e1c8dc70b"
      },
      "execution_count": 59,
      "outputs": [
        {
          "output_type": "execute_result",
          "data": {
            "text/plain": [
              "17018434897"
            ]
          },
          "metadata": {},
          "execution_count": 59
        }
      ]
    },
    {
      "cell_type": "code",
      "source": [
        "if shares < financials['CommonStockSharesIssued'].iloc[0]:\n",
        "    f_score += 1\n",
        "else:\n",
        "    f_score += 0\n",
        "f_score"
      ],
      "metadata": {
        "colab": {
          "base_uri": "https://localhost:8080/"
        },
        "id": "HEkHuqw6Mj-X",
        "outputId": "3121e50a-9e02-4a52-e057-366c2ece2b4c"
      },
      "execution_count": 60,
      "outputs": [
        {
          "output_type": "execute_result",
          "data": {
            "text/plain": [
              "5"
            ]
          },
          "metadata": {},
          "execution_count": 60
        }
      ]
    },
    {
      "cell_type": "code",
      "source": [
        "# Operating Efficiency\n",
        "\n",
        "# 8. Change in Gross Margin\n",
        "print(income.iloc[0]['grossProfit']/income.iloc[0]['totalRevenue'])\n",
        "print(income.iloc[1]['grossProfit']/income.iloc[1]['totalRevenue'])\n",
        "\n",
        "if income.iloc[0]['grossProfit']/income.iloc[0]['totalRevenue'] > income.iloc[1]['grossProfit']/income.iloc[1]['totalRevenue']:\n",
        "    f_score += 1\n",
        "else:\n",
        "    f_score += 0 \n",
        "f_score"
      ],
      "metadata": {
        "colab": {
          "base_uri": "https://localhost:8080/"
        },
        "id": "Hm4fKp1KMmYo",
        "outputId": "53682e8c-fae1-49a2-933b-888f541023bb"
      },
      "execution_count": 61,
      "outputs": [
        {
          "output_type": "stream",
          "name": "stdout",
          "text": [
            "0.4039683735668181\n",
            "0.37069204824689955\n"
          ]
        },
        {
          "output_type": "execute_result",
          "data": {
            "text/plain": [
              "6"
            ]
          },
          "metadata": {},
          "execution_count": 61
        }
      ]
    },
    {
      "cell_type": "code",
      "source": [
        "# 9. Change in Asset Turnover Ratio \n",
        "print(income.iloc[0]['totalRevenue']/balance.iloc[1]['totalAssets'])\n",
        "print(income.iloc[1]['totalRevenue']/balance.iloc[2]['totalAssets'])\n",
        "\n",
        "if income.iloc[0]['totalRevenue']/balance.iloc[1]['totalAssets'] > income.iloc[1]['totalRevenue']/balance.iloc[2]['totalAssets']:\n",
        "    f_score += 1\n",
        "else:\n",
        "    f_score += 0  \n",
        "f_score\n"
      ],
      "metadata": {
        "colab": {
          "base_uri": "https://localhost:8080/"
        },
        "id": "zzY-jqTQMz9o",
        "outputId": "a7a0ac9d-91ef-4511-e2ab-94740d62298c"
      },
      "execution_count": 62,
      "outputs": [
        {
          "output_type": "stream",
          "name": "stdout",
          "text": [
            "1.135314903402686\n",
            "0.8066482288958424\n"
          ]
        },
        {
          "output_type": "execute_result",
          "data": {
            "text/plain": [
              "7"
            ]
          },
          "metadata": {},
          "execution_count": 62
        }
      ]
    },
    {
      "cell_type": "code",
      "source": [
        "# Piotroski F-Score\n",
        "f_score"
      ],
      "metadata": {
        "colab": {
          "base_uri": "https://localhost:8080/"
        },
        "id": "EonMvzK4NGrU",
        "outputId": "eaa76e83-b3e9-4314-f885-b6730e205bb7"
      },
      "execution_count": 63,
      "outputs": [
        {
          "output_type": "execute_result",
          "data": {
            "text/plain": [
              "7"
            ]
          },
          "metadata": {},
          "execution_count": 63
        }
      ]
    },
    {
      "cell_type": "code",
      "source": [
        "## As we can see the F-score is 7 which is good for me as i set threshold for buying 6 "
      ],
      "metadata": {
        "id": "CqmGa0xXNI67"
      },
      "execution_count": null,
      "outputs": []
    }
  ]
}